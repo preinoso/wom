{
 "cells": [
  {
   "cell_type": "code",
   "execution_count": 1,
   "metadata": {
    "collapsed": false,
    "deletable": true,
    "editable": true
   },
   "outputs": [
    {
     "data": {
      "text/html": [
       "<table>\n",
       "<thead><tr><th scope=col>FECHA_PROCESO</th><th scope=col>MALO_12</th><th scope=col>MAX_ACREE_3M</th><th scope=col>MEAN_ACREE_3M</th><th scope=col>MAX_MORA_3M</th><th scope=col>MESES_MORA_3M</th><th scope=col>MAX_VENCIDO_3M</th><th scope=col>MESES_VENCIDO_3M</th><th scope=col>MAX_ACREE_6M</th><th scope=col>MEAN_ACREE_6M</th><th scope=col>⋯</th><th scope=col>ACREE_18M_SBIF</th><th scope=col>MTO_LIN_18M_SBIF</th><th scope=col>MTO_CON_24M_SBIF</th><th scope=col>ACREE_24M_SBIF</th><th scope=col>MTO_LIN_24M_SBIF</th><th scope=col>VAR_ACREE_18M</th><th scope=col>VAR_ACREE_24M</th><th scope=col>VAR_MTO_CON_18M_SBIF</th><th scope=col>VAR_MTO_CON_24M_SBIF</th><th scope=col>N_HAB</th></tr></thead>\n",
       "<tbody>\n",
       "\t<tr><td>1/1/14      </td><td>0           </td><td>3           </td><td>3           </td><td>0           </td><td>0           </td><td>0           </td><td>0           </td><td>3           </td><td>3           </td><td>⋯           </td><td>3           </td><td>11051       </td><td>64197       </td><td>3           </td><td>11051       </td><td>0           </td><td>0           </td><td>-13.95392308</td><td>-13.95392308</td><td>NULL        </td></tr>\n",
       "\t<tr><td>1/1/14      </td><td>0           </td><td>3           </td><td>3           </td><td>0           </td><td>0           </td><td>0           </td><td>0           </td><td>3           </td><td>3           </td><td>⋯           </td><td>3           </td><td>21040       </td><td>15162       </td><td>3           </td><td>21040       </td><td>0           </td><td>0           </td><td>-32.72655323</td><td>-32.72655323</td><td>2           </td></tr>\n",
       "\t<tr><td>1/1/14      </td><td>0           </td><td>3           </td><td>3           </td><td>0           </td><td>0           </td><td>0           </td><td>0           </td><td>3           </td><td>3           </td><td>⋯           </td><td>3           </td><td>25082       </td><td>49377       </td><td>3           </td><td>25082       </td><td>0           </td><td>0           </td><td>8.2548555   </td><td>8.2548555   </td><td>1           </td></tr>\n",
       "\t<tr><td>1/1/14      </td><td>0           </td><td>4           </td><td>4           </td><td>0           </td><td>0           </td><td>0           </td><td>0           </td><td>5           </td><td>4.5         </td><td>⋯           </td><td>5           </td><td>27817       </td><td>47768       </td><td>5           </td><td>27817       </td><td>-20         </td><td>-20         </td><td>2.903617485 </td><td>2.903617485 </td><td>NULL        </td></tr>\n",
       "\t<tr><td>1/1/14      </td><td>0           </td><td>2           </td><td>2           </td><td>0           </td><td>0           </td><td>0           </td><td>0           </td><td>2           </td><td>2           </td><td>⋯           </td><td>2           </td><td>6684        </td><td>91009       </td><td>2           </td><td>6684        </td><td>0           </td><td>0           </td><td>-20.39248865</td><td>-20.39248865</td><td>1           </td></tr>\n",
       "\t<tr><td>1/1/14      </td><td>0           </td><td>3           </td><td>3           </td><td>0           </td><td>0           </td><td>0           </td><td>0           </td><td>3           </td><td>3           </td><td>⋯           </td><td>3           </td><td>26552       </td><td>6233        </td><td>3           </td><td>26552       </td><td>0           </td><td>0           </td><td>264.3510348 </td><td>264.3510348 </td><td>2           </td></tr>\n",
       "</tbody>\n",
       "</table>\n"
      ],
      "text/latex": [
       "\\begin{tabular}{r|lllllllllllllllllllllllllllllllllllllllllllllllllllllllllllllllllllllllllllllllllllllllllllllllllllllllllllllllllllllllllllllllllllllllllllllllllllllllllllllllllllllllllllllllllllllllllllllllllllllllllllllllllllllllllllllllllllllllllllllllllllllllllllllllllllllllllllllllllllllllllllllllllllllllllllllllllllllllllllllllllllllllllllllllllllllllllllllllllllllllllllllllllllllllllllllllll}\n",
       " FECHA\\_PROCESO & MALO\\_12 & MAX\\_ACREE\\_3M & MEAN\\_ACREE\\_3M & MAX\\_MORA\\_3M & MESES\\_MORA\\_3M & MAX\\_VENCIDO\\_3M & MESES\\_VENCIDO\\_3M & MAX\\_ACREE\\_6M & MEAN\\_ACREE\\_6M & ⋯ & ACREE\\_18M\\_SBIF & MTO\\_LIN\\_18M\\_SBIF & MTO\\_CON\\_24M\\_SBIF & ACREE\\_24M\\_SBIF & MTO\\_LIN\\_24M\\_SBIF & VAR\\_ACREE\\_18M & VAR\\_ACREE\\_24M & VAR\\_MTO\\_CON\\_18M\\_SBIF & VAR\\_MTO\\_CON\\_24M\\_SBIF & N\\_HAB\\\\\n",
       "\\hline\n",
       "\t 1/1/14       & 0            & 3            & 3            & 0            & 0            & 0            & 0            & 3            & 3            & ⋯            & 3            & 11051        & 64197        & 3            & 11051        & 0            & 0            & -13.95392308 & -13.95392308 & NULL        \\\\\n",
       "\t 1/1/14       & 0            & 3            & 3            & 0            & 0            & 0            & 0            & 3            & 3            & ⋯            & 3            & 21040        & 15162        & 3            & 21040        & 0            & 0            & -32.72655323 & -32.72655323 & 2           \\\\\n",
       "\t 1/1/14       & 0            & 3            & 3            & 0            & 0            & 0            & 0            & 3            & 3            & ⋯            & 3            & 25082        & 49377        & 3            & 25082        & 0            & 0            & 8.2548555    & 8.2548555    & 1           \\\\\n",
       "\t 1/1/14       & 0            & 4            & 4            & 0            & 0            & 0            & 0            & 5            & 4.5          & ⋯            & 5            & 27817        & 47768        & 5            & 27817        & -20          & -20          & 2.903617485  & 2.903617485  & NULL        \\\\\n",
       "\t 1/1/14       & 0            & 2            & 2            & 0            & 0            & 0            & 0            & 2            & 2            & ⋯            & 2            & 6684         & 91009        & 2            & 6684         & 0            & 0            & -20.39248865 & -20.39248865 & 1           \\\\\n",
       "\t 1/1/14       & 0            & 3            & 3            & 0            & 0            & 0            & 0            & 3            & 3            & ⋯            & 3            & 26552        & 6233         & 3            & 26552        & 0            & 0            & 264.3510348  & 264.3510348  & 2           \\\\\n",
       "\\end{tabular}\n"
      ],
      "text/markdown": [
       "\n",
       "FECHA_PROCESO | MALO_12 | MAX_ACREE_3M | MEAN_ACREE_3M | MAX_MORA_3M | MESES_MORA_3M | MAX_VENCIDO_3M | MESES_VENCIDO_3M | MAX_ACREE_6M | MEAN_ACREE_6M | ⋯ | ACREE_18M_SBIF | MTO_LIN_18M_SBIF | MTO_CON_24M_SBIF | ACREE_24M_SBIF | MTO_LIN_24M_SBIF | VAR_ACREE_18M | VAR_ACREE_24M | VAR_MTO_CON_18M_SBIF | VAR_MTO_CON_24M_SBIF | N_HAB | \n",
       "|---|---|---|---|---|---|\n",
       "| 1/1/14       | 0            | 3            | 3            | 0            | 0            | 0            | 0            | 3            | 3            | ⋯            | 3            | 11051        | 64197        | 3            | 11051        | 0            | 0            | -13.95392308 | -13.95392308 | NULL         | \n",
       "| 1/1/14       | 0            | 3            | 3            | 0            | 0            | 0            | 0            | 3            | 3            | ⋯            | 3            | 21040        | 15162        | 3            | 21040        | 0            | 0            | -32.72655323 | -32.72655323 | 2            | \n",
       "| 1/1/14       | 0            | 3            | 3            | 0            | 0            | 0            | 0            | 3            | 3            | ⋯            | 3            | 25082        | 49377        | 3            | 25082        | 0            | 0            | 8.2548555    | 8.2548555    | 1            | \n",
       "| 1/1/14       | 0            | 4            | 4            | 0            | 0            | 0            | 0            | 5            | 4.5          | ⋯            | 5            | 27817        | 47768        | 5            | 27817        | -20          | -20          | 2.903617485  | 2.903617485  | NULL         | \n",
       "| 1/1/14       | 0            | 2            | 2            | 0            | 0            | 0            | 0            | 2            | 2            | ⋯            | 2            | 6684         | 91009        | 2            | 6684         | 0            | 0            | -20.39248865 | -20.39248865 | 1            | \n",
       "| 1/1/14       | 0            | 3            | 3            | 0            | 0            | 0            | 0            | 3            | 3            | ⋯            | 3            | 26552        | 6233         | 3            | 26552        | 0            | 0            | 264.3510348  | 264.3510348  | 2            | \n",
       "\n",
       "\n"
      ],
      "text/plain": [
       "  FECHA_PROCESO MALO_12 MAX_ACREE_3M MEAN_ACREE_3M MAX_MORA_3M MESES_MORA_3M\n",
       "1 1/1/14        0       3            3             0           0            \n",
       "2 1/1/14        0       3            3             0           0            \n",
       "3 1/1/14        0       3            3             0           0            \n",
       "4 1/1/14        0       4            4             0           0            \n",
       "5 1/1/14        0       2            2             0           0            \n",
       "6 1/1/14        0       3            3             0           0            \n",
       "  MAX_VENCIDO_3M MESES_VENCIDO_3M MAX_ACREE_6M MEAN_ACREE_6M ⋯ ACREE_18M_SBIF\n",
       "1 0              0                3            3             ⋯ 3             \n",
       "2 0              0                3            3             ⋯ 3             \n",
       "3 0              0                3            3             ⋯ 3             \n",
       "4 0              0                5            4.5           ⋯ 5             \n",
       "5 0              0                2            2             ⋯ 2             \n",
       "6 0              0                3            3             ⋯ 3             \n",
       "  MTO_LIN_18M_SBIF MTO_CON_24M_SBIF ACREE_24M_SBIF MTO_LIN_24M_SBIF\n",
       "1 11051            64197            3              11051           \n",
       "2 21040            15162            3              21040           \n",
       "3 25082            49377            3              25082           \n",
       "4 27817            47768            5              27817           \n",
       "5 6684             91009            2              6684            \n",
       "6 26552            6233             3              26552           \n",
       "  VAR_ACREE_18M VAR_ACREE_24M VAR_MTO_CON_18M_SBIF VAR_MTO_CON_24M_SBIF N_HAB\n",
       "1 0             0             -13.95392308         -13.95392308         NULL \n",
       "2 0             0             -32.72655323         -32.72655323         2    \n",
       "3 0             0             8.2548555            8.2548555            1    \n",
       "4 -20           -20           2.903617485          2.903617485          NULL \n",
       "5 0             0             -20.39248865         -20.39248865         1    \n",
       "6 0             0             264.3510348          264.3510348          2    "
      ]
     },
     "metadata": {},
     "output_type": "display_data"
    }
   ],
   "source": [
    "\n",
    "\n",
    "# Add data asset from file system\n",
    "df.data.1 <- read.csv(paste(Sys.getenv(\"DSX_PROJECT_DIR\"),'/datasets/Muestra de datos.csv',sep=\"\"))\n",
    "head(df.data.1)\n",
    "\n"
   ]
  },
  {
   "cell_type": "code",
   "execution_count": null,
   "metadata": {
    "collapsed": true
   },
   "outputs": [],
   "source": []
  }
 ],
 "metadata": {
  "kernelspec": {
   "display_name": "R 3.4.3 with DSX Spark 2.2.1",
   "language": "R",
   "name": "ir"
  },
  "language_info": {
   "codemirror_mode": "r",
   "file_extension": ".r",
   "mimetype": "text/x-r-source",
   "name": "R",
   "pygments_lexer": "r",
   "version": "3.4.3"
  }
 },
 "nbformat": 4,
 "nbformat_minor": 2
}
